{
  "nbformat": 4,
  "nbformat_minor": 0,
  "metadata": {
    "colab": {
      "provenance": []
    },
    "kernelspec": {
      "name": "python3",
      "display_name": "Python 3"
    },
    "language_info": {
      "name": "python"
    }
  },
  "cells": [
    {
      "cell_type": "code",
      "execution_count": null,
      "metadata": {
        "id": "o6pzCxQVl6X5"
      },
      "outputs": [],
      "source": []
    },
    {
      "cell_type": "markdown",
      "source": [
        "1. What is Python, and why is it popular?\n",
        "\n",
        "Answer: Python is a high-level, interpreted programming language known for its easy-to-read syntax and versatility. It’s popular because of its simplicity, readability, and vast ecosystem of libraries and frameworks. Python is used for web development, data analysis, artificial intelligence, automation, and much more, making it one of the most in-demand programming languages.\n",
        "\n",
        "2. What is an interpreter in Python?\n",
        "\n",
        "Answer: An interpreter in Python is a program that reads and executes Python code line by line. Unlike compiled languages, where the code is translated into machine code beforehand, Python code is executed directly, which can make it easier to debug and test.\n",
        "\n",
        "3. What are pre-defined keywords in Python?\n",
        "\n",
        "Answer: Pre-defined keywords are words that have a special meaning in Python and cannot be used as identifiers. These include words like if, else, import, while, def, etc. They are part of the syntax of the Python language and are used to perform specific functions.\n",
        "\n",
        "4. Can keywords be used as variable names?\n",
        "\n",
        "Answer: No, keywords cannot be used as variable names because they are reserved for special syntax in Python. Trying to use a keyword as a variable will result in a syntax error.\n",
        "\n",
        "5. What is mutability in Python?\n",
        "\n",
        "Answer: Mutability refers to whether an object’s state or value can be changed after it’s created. If an object is mutable, you can modify it; if it’s immutable, its state cannot be altered after creation. In Python, lists are mutable, whereas tuples are immutable.\n",
        "\n",
        "6. Why are lists mutable, but tuples are immutable?\n",
        "\n",
        "Answer: The difference in mutability between lists and tuples is due to their intended use cases. Lists are designed for dynamic collections where the elements may need to be changed. Tuples, on the other hand, are designed to be fixed collections, useful for things like representing records or fixed data, where immutability ensures the integrity of the data.\n",
        "\n",
        "7. What is the difference between “==” and “is” operators in Python?\n",
        "\n",
        "Answer: The == operator checks whether the values of two objects are equal. The is operator checks whether two objects refer to the same memory location. In other words, == checks for equality, while is checks for identity.\n",
        "\n",
        "8. What are logical operators in Python?\n",
        "\n",
        "Answer: Logical operators in Python are used to combine conditional statements. They include:\n",
        "and: Returns True if both conditions are true.\n",
        "or: Returns True if at least one condition is true.\n",
        "not: Inverts the boolean value.\n",
        "\n",
        "9. What is type casting in Python?\n",
        "\n",
        "Answer: Type casting is the process of converting one data type into another. In Python, you can explicitly convert between types using functions like int(), float(), str(), etc. For example, you can convert a float to an integer using int(3.14).\n",
        "\n",
        "10. What is the difference between implicit and explicit type casting?\n",
        "\n",
        "Answer: Implicit type casting (also known as automatic type conversion) is done by Python automatically when it can safely convert one data type to another (e.g., converting an integer to a float in an expression like 2 + 3.5).\n",
        "Explicit type casting is done manually by the programmer using built-in functions like int(), float(), or str() to convert a value from one type to another (e.g., int(\"10\")).\n",
        "\n",
        "11. What is the purpose of conditional statements in Python?\n",
        "\n",
        "Answer: Conditional statements allow the execution of different blocks of code based on whether a condition is true or false. They are fundamental for controlling the flow of a program. The common conditional statements in Python are if, elif, and else.\n",
        "\n",
        "12. How does the elif statement work?\n",
        "\n",
        "Answer: The elif statement allows you to check multiple conditions sequentially. If the condition in the if statement is false, Python checks the condition in the elif block. You can have multiple elif statements to check different conditions. If none of the if or elif conditions are true, the else block will execute.\n",
        "\n",
        "13. What is the difference between for and while loops?\n",
        "\n",
        "Answer: A for loop iterates over a sequence, executing a block of code for each element.\n",
        "A while loop repeatedly executes a block of code as long as a condition is true. The condition is checked before each iteration.\n",
        "\n",
        "14. Describe a scenario where a while loop is more suitable than a for loop.\n",
        "\n",
        "Answer: A while loop is more suitable when the number of iterations is not known in advance and depends on a condition that may change during the loop. For example, if you are waiting for user input or polling a resource until a certain condition is met, a while loop would be ideal:\n",
        "\n",
        "while user_input != \"quit\":\n",
        "    user_input = input(\"Enter a command: \")"
      ],
      "metadata": {
        "id": "yYFcQrHnmEWo"
      }
    },
    {
      "cell_type": "code",
      "source": [
        "#Write a Python program to print \"Hello, World!\n",
        "print(\"Hello, World!\")"
      ],
      "metadata": {
        "id": "xIgrVQoUI3c4"
      },
      "execution_count": 1,
      "outputs": []
    },
    {
      "cell_type": "code",
      "source": [
        "#Write a Python program that displays your name and age.\n",
        "name = \"Akshay\"\n",
        "age = 29\n",
        "print(f\"My name is {name} and I am {age} years old.\")"
      ],
      "metadata": {
        "colab": {
          "base_uri": "https://localhost:8080/"
        },
        "id": "L3LUY1pwJB1m",
        "outputId": "bd3bee33-51fd-4f1f-c30e-4bdcc09db002"
      },
      "execution_count": 6,
      "outputs": [
        {
          "output_type": "stream",
          "name": "stdout",
          "text": [
            "My name is Akshay and I am 29 years old.\n"
          ]
        }
      ]
    },
    {
      "cell_type": "code",
      "source": [
        "#Write code to print all the pre-defined keywords in Python using the keyword library\n",
        "import keyword\n",
        "\n",
        "print(keyword.kwlist)"
      ],
      "metadata": {
        "colab": {
          "base_uri": "https://localhost:8080/"
        },
        "id": "05wGGhKRQbZq",
        "outputId": "145c6687-1129-4354-d340-10ca0074941f"
      },
      "execution_count": 7,
      "outputs": [
        {
          "output_type": "stream",
          "name": "stdout",
          "text": [
            "['False', 'None', 'True', 'and', 'as', 'assert', 'async', 'await', 'break', 'class', 'continue', 'def', 'del', 'elif', 'else', 'except', 'finally', 'for', 'from', 'global', 'if', 'import', 'in', 'is', 'lambda', 'nonlocal', 'not', 'or', 'pass', 'raise', 'return', 'try', 'while', 'with', 'yield']\n"
          ]
        }
      ]
    },
    {
      "cell_type": "code",
      "source": [
        "#Write a program that checks if a given word is a Python keyword\n",
        "\n",
        "import keyword\n",
        "word = input(\"Enter a word: \")\n",
        "if keyword.iskeyword(word):\n",
        "    print(f\"{word} is a Python keyword.\")\n",
        "else:\n",
        "    print(f\"{word} is not a Python keyword.\")"
      ],
      "metadata": {
        "colab": {
          "base_uri": "https://localhost:8080/"
        },
        "id": "f1XnAFmqQ0CU",
        "outputId": "589566cb-4507-4916-f6e4-586b8e93fdcc"
      },
      "execution_count": 8,
      "outputs": [
        {
          "output_type": "stream",
          "name": "stdout",
          "text": [
            "Enter a word: key\n",
            "key is not a Python keyword.\n"
          ]
        }
      ]
    },
    {
      "cell_type": "code",
      "source": [
        "#Write a function to demonstrate the behavior of mutable and immutable arguments\n",
        "def demo_mutability(mutable_arg, immutable_arg):\n",
        "    mutable_arg.append(4)\n",
        "    immutable_arg += \" added\"\n",
        "\n",
        "    print(f\"Mutable argument: {mutable_arg}\")\n",
        "    print(f\"Immutable argument: {immutable_arg}\")\n",
        "\n",
        "my_list = [1, 2, 3]\n",
        "my_string = \"Hello\"\n",
        "demo_mutability(my_list, my_string)\n",
        "\n",
        "print(f\"Original mutable list: {my_list}\")\n",
        "print(f\"Original immutable string: {my_string}\")"
      ],
      "metadata": {
        "colab": {
          "base_uri": "https://localhost:8080/"
        },
        "id": "7hzZVoZuTVPK",
        "outputId": "ccf98fff-8a28-40b9-984a-f30f51db2493"
      },
      "execution_count": 9,
      "outputs": [
        {
          "output_type": "stream",
          "name": "stdout",
          "text": [
            "Mutable argument: [1, 2, 3, 4]\n",
            "Immutable argument: Hello added\n",
            "Original mutable list: [1, 2, 3, 4]\n",
            "Original immutable string: Hello\n"
          ]
        }
      ]
    },
    {
      "cell_type": "code",
      "source": [
        "# Write a program that performs basic arithmetic operations on two user-input numbers.\n",
        "\n",
        "num1 = float(input(\"Enter first number: \"))\n",
        "num2 = float(input(\"Enter second number: \"))\n",
        "\n",
        "print(f\"Sum: {num1 + num2}\")\n",
        "print(f\"Difference: {num1 - num2}\")\n",
        "print(f\"Product: {num1 * num2}\")\n",
        "print(f\"Division: {num1 / num2}\")\n"
      ],
      "metadata": {
        "colab": {
          "base_uri": "https://localhost:8080/"
        },
        "id": "b5m-haGwUiUO",
        "outputId": "9bcc88b1-7dd8-4019-d66a-cb0ed5907de8"
      },
      "execution_count": 11,
      "outputs": [
        {
          "output_type": "stream",
          "name": "stdout",
          "text": [
            "Enter first number: 2\n",
            "Enter second number: 2\n",
            "Sum: 4.0\n",
            "Difference: 0.0\n",
            "Product: 4.0\n",
            "Division: 1.0\n"
          ]
        }
      ]
    },
    {
      "cell_type": "code",
      "source": [
        "#Write a program to demonstrate the use of logical operators.\n",
        "a = True\n",
        "b = False\n",
        "\n",
        "print(f\"a and b: {a and b}\")\n",
        "print(f\"a or b: {a or b}\")\n",
        "print(f\"not a: {not a}\")\n"
      ],
      "metadata": {
        "colab": {
          "base_uri": "https://localhost:8080/"
        },
        "id": "RhsW1gc5U3wn",
        "outputId": "7730c35b-10fb-465e-bd27-5dc748e2e50e"
      },
      "execution_count": 12,
      "outputs": [
        {
          "output_type": "stream",
          "name": "stdout",
          "text": [
            "a and b: False\n",
            "a or b: True\n",
            "not a: False\n"
          ]
        }
      ]
    },
    {
      "cell_type": "code",
      "source": [
        "#Write a Python program to convert user input from string to integer, float, and boolean types.\n",
        "\n",
        "user_input = input(\"Enter a value: \")\n",
        "\n",
        "# Convert to integer\n",
        "try:\n",
        "    int_value = int(user_input)\n",
        "    print(f\"Integer value: {int_value}\")\n",
        "except ValueError:\n",
        "    print(\"Invalid input for integer conversion.\")\n",
        "\n",
        "# Convert to float\n",
        "try:\n",
        "    float_value = float(user_input)\n",
        "    print(f\"Float value: {float_value}\")\n",
        "except ValueError:\n",
        "    print(\"Invalid input for float conversion.\")\n",
        "\n",
        "# Convert to boolean\n",
        "bool_value = bool(user_input)\n",
        "print(f\"Boolean value: {bool_value}\")\n"
      ],
      "metadata": {
        "colab": {
          "base_uri": "https://localhost:8080/"
        },
        "id": "LeveK6LfVTHa",
        "outputId": "4f76fbcb-37d4-4757-f0eb-b55c10f8aec9"
      },
      "execution_count": 23,
      "outputs": [
        {
          "output_type": "stream",
          "name": "stdout",
          "text": [
            "Enter a value: 4\n",
            "Integer value: 4\n",
            "Float value: 4.0\n",
            "Boolean value: True\n"
          ]
        }
      ]
    },
    {
      "cell_type": "code",
      "source": [
        "#Write code to demonstrate type casting with list elements\n",
        "my_list = [\"1\", \"2\", \"3\"]\n",
        "\n",
        "# Convert each element to an integer\n",
        "int_list = [int(x) for x in my_list]\n",
        "print(f\"List with integers: {int_list}\")\n"
      ],
      "metadata": {
        "colab": {
          "base_uri": "https://localhost:8080/"
        },
        "id": "aE0u4BfdU-22",
        "outputId": "6523a0a4-4eb2-4a2e-9c01-869e08a7fb33"
      },
      "execution_count": 22,
      "outputs": [
        {
          "output_type": "stream",
          "name": "stdout",
          "text": [
            "List with integers: [1, 2, 3]\n"
          ]
        }
      ]
    },
    {
      "cell_type": "code",
      "source": [
        "#Write a program that checks if a number is positive, negative, or zero.\n",
        "\n",
        "num = float(input(\"Enter a number: \"))\n",
        "\n",
        "if num > 0:\n",
        "    print(\"The number is positive.\")\n",
        "elif num < 0:\n",
        "    print(\"The number is negative.\")\n",
        "else:\n",
        "    print(\"The number is zero.\")\n"
      ],
      "metadata": {
        "colab": {
          "base_uri": "https://localhost:8080/"
        },
        "id": "EQrgspunWPT5",
        "outputId": "4ecad549-2982-4dda-9ceb-8020169717e4"
      },
      "execution_count": 21,
      "outputs": [
        {
          "output_type": "stream",
          "name": "stdout",
          "text": [
            "Enter a number: 2\n",
            "The number is positive.\n"
          ]
        }
      ]
    },
    {
      "cell_type": "code",
      "source": [
        "#Write a for loop to print numbers from 1 to 10.\n",
        "for i in range(1, 11):\n",
        "    print(i)\n"
      ],
      "metadata": {
        "colab": {
          "base_uri": "https://localhost:8080/"
        },
        "id": "UvRhbCwRWq3E",
        "outputId": "9c6a8891-77e5-4169-c707-0e9245b627ed"
      },
      "execution_count": 20,
      "outputs": [
        {
          "output_type": "stream",
          "name": "stdout",
          "text": [
            "1\n",
            "2\n",
            "3\n",
            "4\n",
            "5\n",
            "6\n",
            "7\n",
            "8\n",
            "9\n",
            "10\n"
          ]
        }
      ]
    },
    {
      "cell_type": "code",
      "source": [
        "#Write a Python program to find the sum of all even numbers between 1 and 50\n",
        "total = 0\n",
        "for i in range(2, 51, 2):  # Start at 2, step by 2 for even numbers\n",
        "    total += i\n",
        "print(f\"The sum of all even numbers between 1 and 50 is: {total}\")\n"
      ],
      "metadata": {
        "colab": {
          "base_uri": "https://localhost:8080/"
        },
        "id": "nhJA_bDFWzJB",
        "outputId": "9e672f44-aca1-462d-bc31-f539ebdebd34"
      },
      "execution_count": 19,
      "outputs": [
        {
          "output_type": "stream",
          "name": "stdout",
          "text": [
            "The sum of all even numbers between 1 and 50 is: 650\n"
          ]
        }
      ]
    },
    {
      "cell_type": "code",
      "source": [
        "#Write a program to reverse a string using a while loop.\n",
        "string = input(\"Enter a string: \")\n",
        "reversed_string = \"\"\n",
        "i = len(string) - 1\n",
        "\n",
        "while i >= 0:\n",
        "    reversed_string += string[i]\n",
        "    i -= 1\n",
        "\n",
        "print(f\"Reversed string: {reversed_string}\")\n"
      ],
      "metadata": {
        "colab": {
          "base_uri": "https://localhost:8080/"
        },
        "id": "otAHDgVzW-I4",
        "outputId": "59d4823b-302d-4da8-8f83-d3c876827abd"
      },
      "execution_count": 17,
      "outputs": [
        {
          "output_type": "stream",
          "name": "stdout",
          "text": [
            "Enter a string: hello\n",
            "Reversed string: olleh\n"
          ]
        }
      ]
    },
    {
      "cell_type": "code",
      "source": [
        "#Write a Python program to calculate the factorial of a number provided by the user using a while loop.\n",
        "num = int(input(\"Enter a number to calculate its factorial: \"))\n",
        "factorial = 1\n",
        "\n",
        "while num > 1:\n",
        "    factorial *= num\n",
        "    num -= 1\n",
        "\n",
        "print(f\"The factorial is: {factorial}\")\n",
        "\n"
      ],
      "metadata": {
        "colab": {
          "base_uri": "https://localhost:8080/"
        },
        "id": "ZzawJMKWXHz6",
        "outputId": "717d6476-3c95-4aac-e1d6-14ef0abb91f9"
      },
      "execution_count": 18,
      "outputs": [
        {
          "output_type": "stream",
          "name": "stdout",
          "text": [
            "Enter a number to calculate its factorial: 24\n",
            "The factorial is: 620448401733239439360000\n"
          ]
        }
      ]
    }
  ]
}